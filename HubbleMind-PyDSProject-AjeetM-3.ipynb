{
 "cells": [
  {
   "cell_type": "markdown",
   "id": "246084e6-d216-4816-9b21-5db5b7143595",
   "metadata": {},
   "source": [
    "# Week 1: Data Cleaning"
   ]
  },
  {
   "cell_type": "code",
   "execution_count": null,
   "id": "3bf89242-d395-4bde-928e-67cf4cb64587",
   "metadata": {},
   "outputs": [],
   "source": [
    "import pandas as pd\n",
    "import numpy as np\n",
    "import matplotlib.pyplot as plt\n",
    "import seaborn as sns\n",
    "%matplotlib inline"
   ]
  },
  {
   "cell_type": "code",
   "execution_count": null,
   "id": "9220695e-3ce4-40b3-8c00-d9ac15128039",
   "metadata": {},
   "outputs": [],
   "source": [
    "df=pd.read_csv('smart_home_energy_consumption.csv')  #Loading the dataset"
   ]
  },
  {
   "cell_type": "code",
   "execution_count": null,
   "id": "e8c27bd4-27ac-49e3-87b9-9d453172d8d3",
   "metadata": {},
   "outputs": [],
   "source": [
    "df.head()"
   ]
  },
  {
   "cell_type": "code",
   "execution_count": null,
   "id": "fa805707-550d-4f0a-8388-fe709ce35506",
   "metadata": {},
   "outputs": [],
   "source": [
    "df.tail()"
   ]
  },
  {
   "cell_type": "code",
   "execution_count": null,
   "id": "724f871f-8cdc-4175-b082-4ef6de03f65a",
   "metadata": {},
   "outputs": [],
   "source": [
    "df.shape"
   ]
  },
  {
   "cell_type": "code",
   "execution_count": null,
   "id": "48198122-f9cc-4443-999a-99c5f3f9ecb9",
   "metadata": {},
   "outputs": [],
   "source": [
    "print('Total number of rows in the dataset:',df.shape[0])\n",
    "print('Total number of columns in the dataset:',df.shape[1])"
   ]
  },
  {
   "cell_type": "code",
   "execution_count": null,
   "id": "c4d1a751-7467-402d-9c59-2999e87f2120",
   "metadata": {},
   "outputs": [],
   "source": [
    "df.info()"
   ]
  },
  {
   "cell_type": "code",
   "execution_count": null,
   "id": "737010ea-5eb5-44c9-9571-f563b4a6be3a",
   "metadata": {},
   "outputs": [],
   "source": [
    "df.describe().T"
   ]
  },
  {
   "cell_type": "code",
   "execution_count": null,
   "id": "fda7102b-9c41-47ba-a497-a5650a4ec870",
   "metadata": {
    "scrolled": true
   },
   "outputs": [],
   "source": [
    "for i in df.columns:\n",
    "    print('Count of',i)\n",
    "    print('-----------------------------------------')\n",
    "    print(df[i].value_counts(),'\\n')\n",
    "    print('Proportion of',i)\n",
    "    print('-----------------------------------------')\n",
    "    print(df[i].value_counts(normalize=True),'\\n\\n')"
   ]
  },
  {
   "cell_type": "markdown",
   "id": "b7f0560b-9215-446d-adac-5d9e3ccbd6e0",
   "metadata": {},
   "source": [
    "### Checking for duplicates:"
   ]
  },
  {
   "cell_type": "code",
   "execution_count": null,
   "id": "8d1b9a17-3d18-4e0f-b457-f44f246b0b8e",
   "metadata": {},
   "outputs": [],
   "source": [
    "if df.duplicated().sum()==0:\n",
    "    print('There are no duplicate rows in the dataset.')\n",
    "else:\n",
    "    print('Total number of duplicate rows in the dataset :',df.duplicated().sum())"
   ]
  },
  {
   "cell_type": "markdown",
   "id": "c661c9c2-63a4-4d6d-a113-7b7af32357ba",
   "metadata": {},
   "source": [
    "### Checking for missing values."
   ]
  },
  {
   "cell_type": "code",
   "execution_count": null,
   "id": "5baf0acc-450d-4ed9-aab1-5b082240c3a5",
   "metadata": {},
   "outputs": [],
   "source": [
    "df.isnull().sum()"
   ]
  },
  {
   "cell_type": "code",
   "execution_count": null,
   "id": "b49501f3-9708-4175-9024-c094ba435ddc",
   "metadata": {},
   "outputs": [],
   "source": [
    "missing = pd.DataFrame([df.columns, df.isnull().sum(), df.isnull().sum()/df.index.size*100])\n",
    "missing = missing.T\n",
    "missing.columns = ['Column_name','Missing_values','Percentage_missing_values']\n",
    "missing"
   ]
  },
  {
   "cell_type": "markdown",
   "id": "5118207b-b2fa-4ccf-8a8a-95f13574995e",
   "metadata": {},
   "source": [
    "#### Visually inspecting the missing values in the dataset using heatmap (white bars show missing values)"
   ]
  },
  {
   "cell_type": "code",
   "execution_count": null,
   "id": "148a7877-83e4-4092-8729-652802bf0317",
   "metadata": {},
   "outputs": [],
   "source": [
    "plt.figure(figsize = (22,10))\n",
    "plt.xticks(fontsize=15)\n",
    "sns.heatmap(df.isnull(), cbar=False, cmap = 'ocean', yticklabels = False)\n",
    "plt.show()"
   ]
  },
  {
   "cell_type": "code",
   "execution_count": null,
   "id": "ae3db7bb-638b-4943-9430-a586ab29032a",
   "metadata": {},
   "outputs": [],
   "source": [
    "# Since there are missing values in numeric columns, we will fill the missing values using median imputation for robustness.\n",
    "# Handling missing values by filling them with median\n",
    "\n",
    "columns_with_missing_values = ['Energy_Consumption_kWh', 'Temperature_C', 'Humidity_%', 'HVAC_Usage_kWh']\n",
    "\n",
    "# Filling missing values with the median of each column\n",
    "df[columns_with_missing_values] = df[columns_with_missing_values].apply(lambda col: col.fillna(col.median()))\n",
    "\n",
    "# Verify if the missing values have been handled\n",
    "df.isnull().sum()\n"
   ]
  },
  {
   "cell_type": "markdown",
   "id": "e0f44263-c62b-4121-aa3c-b976045b3597",
   "metadata": {},
   "source": [
    "### Checking the Outliers:"
   ]
  },
  {
   "cell_type": "code",
   "execution_count": null,
   "id": "8f53043b-264b-4928-b582-3a586b2fa5c6",
   "metadata": {},
   "outputs": [],
   "source": [
    "#Get boxplots for all the numerical columns\n",
    "numeric_columns = df.select_dtypes(include=np.number).columns.tolist()\n",
    "\n",
    "plt.figure(figsize=(18, 30))\n",
    "\n",
    "for i, variable in enumerate(numeric_columns):\n",
    "    plt.subplot(15, 4, i + 1)\n",
    "    sns.boxplot(data=df, x=variable)  ## Complete the code to get boxplots for all numerical columns\n",
    "    plt.tight_layout()\n",
    "    plt.title(variable)\n",
    "plt.show()"
   ]
  },
  {
   "cell_type": "markdown",
   "id": "0ce7b41a-ca93-476b-a5fc-bb19325b3f2d",
   "metadata": {},
   "source": [
    "### Outliers Count:"
   ]
  },
  {
   "cell_type": "code",
   "execution_count": null,
   "id": "207c6e27-cbb7-4fdc-8e06-0fb378e19923",
   "metadata": {},
   "outputs": [],
   "source": [
    "numeric_columns = df.select_dtypes(include=np.number).columns.tolist()"
   ]
  },
  {
   "cell_type": "code",
   "execution_count": null,
   "id": "bf6d4b9b-e9c1-4086-9665-6a20ec52256e",
   "metadata": {},
   "outputs": [],
   "source": [
    "outliers_count = {}\n",
    "\n",
    "# Iterate over each column in the DataFrame\n",
    "for column in numeric_columns:\n",
    "    Q1 = df[column].quantile(0.25)\n",
    "    Q3 = df[column].quantile(0.75)\n",
    "\n",
    "    IQR = Q3 - Q1\n",
    "\n",
    "    lower_bound = Q1 - 1.5 * IQR  ## Fill the blank with correct value for getting lower_bound\n",
    "    upper_bound = Q3 + 1.5 * IQR  ## Fill the blank with correct value for getting upper_bound\n",
    "\n",
    "    outliers = df[(df[column] < lower_bound) | (df[column] > upper_bound)]\n",
    "    outliers_count[column] = len(outliers)\n",
    "\n",
    "print(\"Number of outliers in each column:\")\n",
    "pd.DataFrame([{'Column': column, 'No. of outliers': outliers} for column, outliers in outliers_count.items()])"
   ]
  },
  {
   "cell_type": "code",
   "execution_count": null,
   "id": "7e64e543-5d05-4015-abb8-64c605f0d525",
   "metadata": {},
   "outputs": [],
   "source": [
    "# Capping outliers using the IQR method on the df dataset\n",
    "for column in df.select_dtypes(include=np.number).columns:\n",
    "    Q1 = df[column].quantile(0.25)\n",
    "    Q3 = df[column].quantile(0.75)\n",
    "    IQR = Q3 - Q1\n",
    "\n",
    "    lower_bound = Q1 - 1.5 * IQR\n",
    "    upper_bound = Q3 + 1.5 * IQR\n",
    "\n",
    "    # Cap the outliers in the training set\n",
    "    df[column] = np.where(df[column] < lower_bound, lower_bound, df[column])\n",
    "    df[column] = np.where(df[column] > upper_bound, upper_bound, df[column])\n",
    "\n",
    "   \n",
    "\n",
    "# Display a message that the outliers in df have been treated\n",
    "\"Outliers have been capped using the IQR method in the df dataset.\""
   ]
  },
  {
   "cell_type": "markdown",
   "id": "72b3ed6f-66f0-40ae-99eb-d89ef3c038cf",
   "metadata": {},
   "source": [
    "### Outlier check after treatment:"
   ]
  },
  {
   "cell_type": "code",
   "execution_count": null,
   "id": "07e5ff4e-b01f-47ea-8fe7-a8920a18952c",
   "metadata": {},
   "outputs": [],
   "source": [
    "outliers_count = {}\n",
    "\n",
    "# Iterate over each column in the DataFrame\n",
    "for column in numeric_columns:\n",
    "    Q1 = df[column].quantile(0.25)\n",
    "    Q3 = df[column].quantile(0.75)\n",
    "\n",
    "    IQR = Q3 - Q1\n",
    "\n",
    "    lower_bound = Q1 - 1.5 * IQR  ## Fill the blank with correct value for getting lower_bound\n",
    "    upper_bound = Q3 + 1.5 * IQR  ## Fill the blank with correct value for getting upper_bound\n",
    "\n",
    "    outliers = df[(df[column] < lower_bound) | (df[column] > upper_bound)]\n",
    "    outliers_count[column] = len(outliers)\n",
    "\n",
    "print(\"Number of outliers in each column:\")\n",
    "pd.DataFrame([{'Column': column, 'No. of outliers': outliers} for column, outliers in outliers_count.items()])"
   ]
  },
  {
   "cell_type": "markdown",
   "id": "d3da5ea3-f8bb-45d4-9b2f-764a325c47ee",
   "metadata": {},
   "source": [
    "#### Boxplots after outlier treatment.#Get boxplots for all the numerical columns\n"
   ]
  },
  {
   "cell_type": "code",
   "execution_count": null,
   "id": "de98e006-7a01-409d-85e0-c509bf2556f8",
   "metadata": {},
   "outputs": [],
   "source": [
    "#Get boxplots for all the numerical columns\n",
    "numeric_columns = df.select_dtypes(include=np.number).columns.tolist()\n",
    "\n",
    "plt.figure(figsize=(18, 30))\n",
    "\n",
    "for i, variable in enumerate(numeric_columns):\n",
    "    plt.subplot(15, 4, i + 1)\n",
    "    sns.boxplot(data=df, x=variable)  ## Complete the code to get boxplots for all numerical columns\n",
    "    plt.tight_layout()\n",
    "    plt.title(variable)\n",
    "plt.show()"
   ]
  },
  {
   "cell_type": "markdown",
   "id": "32f10c9c-7d55-4c39-bbe0-8e6e7e012654",
   "metadata": {},
   "source": [
    "### Time-Series Consistency"
   ]
  },
  {
   "cell_type": "code",
   "execution_count": null,
   "id": "92208f35-5d86-43ba-9913-0b5bd976f943",
   "metadata": {},
   "outputs": [],
   "source": [
    "# First, we will check for any duplicate timestamps in the 'Date' column to identify inconsistencies.\n",
    "# Then, if any duplicates are found, we will handle them appropriately.\n",
    "\n",
    "# Checking for duplicate timestamps in the 'Date' column\n",
    "duplicate_timestamps = df[df.duplicated(subset=['Date'], keep=False)]\n",
    "\n",
    "duplicate_timestamps_count = duplicate_timestamps.shape[0]\n",
    "duplicate_timestamps_count, duplicate_timestamps.head()"
   ]
  },
  {
   "cell_type": "markdown",
   "id": "a159a279-4a22-4f99-95c8-0c09b7200d3f",
   "metadata": {},
   "source": [
    "### Standardization:"
   ]
  },
  {
   "cell_type": "code",
   "execution_count": null,
   "id": "7af2d977-7169-452a-8985-c9d9adfca1da",
   "metadata": {},
   "outputs": [],
   "source": [
    "from sklearn.preprocessing import StandardScaler\n",
    "\n",
    "# Selecting relevant features for normalization/standardization\n",
    "features_to_scale = ['Energy_Consumption_kWh', 'HVAC_Usage_kWh', 'Kitchen_Usage_kWh', 'Electronics_Usage_kWh']\n",
    "\n",
    "# Initializing the StandardScaler\n",
    "scaler = StandardScaler()\n",
    "\n",
    "# Applying standardization (mean=0, variance=1)\n",
    "df[features_to_scale] = scaler.fit_transform(df[features_to_scale])\n",
    "\n",
    "# Displaying the first few rows to verify the scaling\n",
    "df.head()"
   ]
  },
  {
   "cell_type": "code",
   "execution_count": null,
   "id": "6ae9b186-5907-41f3-be15-5e44188745ad",
   "metadata": {},
   "outputs": [],
   "source": [
    "df.describe().T"
   ]
  },
  {
   "cell_type": "markdown",
   "id": "19046414-2869-4d9e-92a2-0c4f74e0f773",
   "metadata": {},
   "source": [
    "# Week 2: Exploratory Data Analysis (EDA) & Visualization"
   ]
  },
  {
   "cell_type": "markdown",
   "id": "f037708a-1c86-46cc-8801-fef14b772331",
   "metadata": {},
   "source": [
    "#### Univariate Analysis"
   ]
  },
  {
   "cell_type": "code",
   "execution_count": null,
   "id": "26426178-21bf-4261-b357-5ac7fc989100",
   "metadata": {},
   "outputs": [],
   "source": [
    "#selecting numerical and categorical columns for univariate analysis\n",
    "numerical_cols=df.select_dtypes(include=['int64','float64']).columns.tolist()\n",
    "categorical_cols=df.select_dtypes(include=['object']).columns.tolist()"
   ]
  },
  {
   "cell_type": "code",
   "execution_count": null,
   "id": "a44244c6-a34b-4ccc-b954-1eec7fcb5c42",
   "metadata": {},
   "outputs": [],
   "source": [
    "#Define a function to create histogram and box plots for numerical columns\n",
    "def plot_numerical_univariate(data,col_list):\n",
    "    fig,ax=plt.subplots(len(col_list),2,figsize=(12,4*len(col_list)))\n",
    "    for i,col in enumerate(col_list):\n",
    "        sns.histplot(data[col],kde=True,ax=ax[i,0])\n",
    "        ax[i,0].set_title(f'Histogram of {col}',fontsize=14)\n",
    "        sns.boxplot(x=data[col],ax=ax[i,1])\n",
    "        ax[i,1].set_title(f'Boxplot of {col}',fontsize=14)\n",
    "    plt.tight_layout()\n",
    "    plt.show()"
   ]
  },
  {
   "cell_type": "code",
   "execution_count": null,
   "id": "2b4f0868-04c7-46af-b803-89b9b9cd0b63",
   "metadata": {},
   "outputs": [],
   "source": [
    "plot_numerical_univariate(df,numerical_cols)"
   ]
  },
  {
   "cell_type": "code",
   "execution_count": null,
   "id": "02b685ff-4c12-49a6-bbd6-88b7b43da3f0",
   "metadata": {},
   "outputs": [],
   "source": [
    "#Define a function to create bar charts for categorical columns\n",
    "def plot_categorical_univariate(data,col_list):\n",
    "    fig,ax=plt.subplots(len(col_list),1,figsize=(12,4*len(col_list)))\n",
    "    for i,col in enumerate(col_list):\n",
    "        value_counts=data[col].value_counts()\n",
    "        sns.barplot(x=value_counts.index,y=value_counts,ax=ax[i])\n",
    "        ax[i].set_title(f'Bar Chart of {col}',fontsize=14)\n",
    "        ax[i].tick_params(axis='x',rotation=45)\n",
    "    plt.tight_layout()\n",
    "    plt.show()"
   ]
  },
  {
   "cell_type": "code",
   "execution_count": null,
   "id": "c6071c6b-9466-401c-9d1d-164c311f8c08",
   "metadata": {},
   "outputs": [],
   "source": [
    "plot_categorical_univariate(df,categorical_cols)"
   ]
  },
  {
   "cell_type": "markdown",
   "id": "0bb24aff-d418-41b4-bc35-b3c653020eef",
   "metadata": {},
   "source": [
    "#### Bivariate and Multivariate Analysis"
   ]
  },
  {
   "cell_type": "code",
   "execution_count": null,
   "id": "fb411caf-0448-4b1f-b328-9904d391dc00",
   "metadata": {},
   "outputs": [],
   "source": [
    "\n",
    "# Define the variables of interest for scatter plots with energy consumption\n",
    "variables_of_interest = ['Temperature_C', 'Humidity_%', 'HVAC_Usage_kWh', 'Kitchen_Usage_kWh', 'Electronics_Usage_kWh', 'Occupancy']\n",
    "\n",
    "# Creating scatter plots for Energy Consumption vs. each of the other variables\n",
    "fig, axes = plt.subplots(3, 2, figsize=(12, 18))  # Adjust subplot layout for better visual organization\n",
    "axes = axes.flatten()  # Flatten the array to ease indexing\n",
    "\n",
    "for i, var in enumerate(variables_of_interest):\n",
    "    sns.scatterplot(data=df, x=var, y='Energy_Consumption_kWh', ax=axes[i])\n",
    "    axes[i].set_title(f'Energy Consumption vs. {var}')\n",
    "\n",
    "plt.tight_layout()\n",
    "plt.show()"
   ]
  },
  {
   "cell_type": "markdown",
   "id": "349d91f2-2389-4ed5-ae49-9002ea47d4c7",
   "metadata": {},
   "source": [
    "#### Multivariate Analysis"
   ]
  },
  {
   "cell_type": "code",
   "execution_count": null,
   "id": "66c3a1e4-e3c2-424d-9b20-69046ad41f20",
   "metadata": {},
   "outputs": [],
   "source": [
    "# Selecting relevant features for correlation analysis\n",
    "features = ['Energy_Consumption_kWh', 'Temperature_C', 'Humidity_%', 'HVAC_Usage_kWh', 'Kitchen_Usage_kWh', 'Electronics_Usage_kWh', 'Occupancy']\n",
    "\n",
    "# Calculating the correlation matrix\n",
    "corr_matrix = df[features].corr()\n",
    "\n",
    "# Creating a heatmap\n",
    "plt.figure(figsize=(10, 8))\n",
    "sns.heatmap(corr_matrix, annot=True, cmap='coolwarm', fmt=\".2f\", linewidths=.5)\n",
    "plt.title('Correlation Matrix of Energy Consumption and Related Variables')\n",
    "plt.show()"
   ]
  },
  {
   "cell_type": "markdown",
   "id": "b98d3e45-5ca0-43d6-a685-0adb79feddff",
   "metadata": {},
   "source": [
    "#### Pair plot"
   ]
  },
  {
   "cell_type": "code",
   "execution_count": null,
   "id": "3774dfea-e563-4ed5-b1e2-f108b2c19a7f",
   "metadata": {},
   "outputs": [],
   "source": [
    "# Define the list of features to include in the pair plot\n",
    "features = ['Energy_Consumption_kWh', 'Temperature_C', 'Humidity_%', 'HVAC_Usage_kWh', 'Kitchen_Usage_kWh', 'Electronics_Usage_kWh', 'Occupancy']\n",
    "\n",
    "\n",
    "# Creating a pair plot with a kernel density estimate on the diagonal\n",
    "sns.pairplot(df[features])\n",
    "\n",
    "# Adjust the plot titles and layout\n",
    "plt.subplots_adjust(top=0.95)\n",
    "plt.suptitle('Pair Plot of Energy Consumption and Related Variables', size=16)\n",
    "\n",
    "# Show the plot\n",
    "plt.show()"
   ]
  },
  {
   "cell_type": "markdown",
   "id": "9c03ce2e-eb2a-493b-b884-b2e987e58e32",
   "metadata": {},
   "source": [
    "#### Time Series Analysis"
   ]
  },
  {
   "cell_type": "code",
   "execution_count": null,
   "id": "d0619f01-a695-4185-aae0-d493504095b7",
   "metadata": {},
   "outputs": [],
   "source": [
    "# First, check if 'Date' is already a column, if not, set the index name and reset it to a column\n",
    "if 'Date' not in df.columns:\n",
    "    df.index.names = ['Date']\n",
    "    df.reset_index(inplace=True)\n",
    "\n",
    "# Convert 'Date' to datetime type if it's not already\n",
    "df['Date'] = pd.to_datetime(df['Date'])\n",
    "\n",
    "# Set 'Date' as the index\n",
    "df.set_index('Date', inplace=True)"
   ]
  },
  {
   "cell_type": "code",
   "execution_count": null,
   "id": "70f2f4b2-8ec9-423c-a994-06c4d1cadbb0",
   "metadata": {},
   "outputs": [],
   "source": [
    "# Now, resample the 'Energy_Consumption_kWh' column by day and compute the mean\n",
    "daily_energy = df['Energy_Consumption_kWh'].resample('D').mean()\n",
    "\n",
    "# Plotting\n",
    "import matplotlib.pyplot as plt\n",
    "\n",
    "plt.figure(figsize=(15, 7))\n",
    "plt.plot(daily_energy, label='Daily Energy Consumption')\n",
    "plt.plot(daily_energy.rolling(window=7).mean(), color='red', label='7-Day Moving Average')\n",
    "plt.title('Daily Energy Consumption Trends')\n",
    "plt.xlabel('Date')\n",
    "plt.ylabel('Energy Consumption (kWh)')\n",
    "plt.legend()\n",
    "plt.grid(True)\n",
    "plt.show()"
   ]
  },
  {
   "cell_type": "code",
   "execution_count": null,
   "id": "5f2cd7fc-b128-4bea-b99e-50337bf7c36e",
   "metadata": {},
   "outputs": [],
   "source": [
    "df.head()"
   ]
  },
  {
   "cell_type": "markdown",
   "id": "42200619-b49e-4398-b190-d70be05de584",
   "metadata": {},
   "source": [
    "#### Decompose the time series"
   ]
  },
  {
   "cell_type": "code",
   "execution_count": null,
   "id": "cd6eec4b-28fb-40ca-a776-d52061d3d5e6",
   "metadata": {},
   "outputs": [],
   "source": [
    "from statsmodels.tsa.seasonal import seasonal_decompose\n",
    "\n",
    "# Decompose the daily energy consumption time series\n",
    "result = seasonal_decompose(daily_energy.dropna(), model='additive')  # use 'multiplicative' if it fits better\n",
    "result.plot()\n",
    "plt.show()"
   ]
  },
  {
   "cell_type": "markdown",
   "id": "6b034314-b86a-4a02-b928-49e177922220",
   "metadata": {},
   "source": [
    "#### Feature Engineering"
   ]
  },
  {
   "cell_type": "code",
   "execution_count": null,
   "id": "9accc214-28bf-4508-a916-2991524fa58d",
   "metadata": {},
   "outputs": [],
   "source": [
    "df['Energy per Occupant'] = df['Energy_Consumption_kWh'] / df['Occupancy'].replace(0, 1)  # Replace 0 with 1 to avoid division by zero\n",
    "df['Day of Week'] = df.index.dayofweek\n",
    "df['Is Weekend'] = df['Day of Week'].apply(lambda x: 1 if x >= 5 else 0)\n",
    "df['Season'] = df.index.month % 12 // 3 + 1\n",
    "df['Season'] = df['Season'].map({1: 'Winter', 2: 'Spring', 3: 'Summer', 4: 'Autumn'})\n",
    "df['HVAC Efficiency'] = df['HVAC_Usage_kWh'] / df['Energy_Consumption_kWh']"
   ]
  },
  {
   "cell_type": "code",
   "execution_count": null,
   "id": "b935843c-36e7-479b-afc3-5cd4bb52bfbe",
   "metadata": {},
   "outputs": [],
   "source": [
    "df.head()"
   ]
  },
  {
   "cell_type": "code",
   "execution_count": null,
   "id": "febb3bc7-3c94-464a-a40d-b45f537c9544",
   "metadata": {},
   "outputs": [],
   "source": [
    "# Only select numeric columns for correlation analysis\n",
    "numeric_cols = df.select_dtypes(include=[np.number]).columns.tolist()\n",
    "correlations = df[numeric_cols].corr()\n",
    "\n",
    "# Visualize the correlation matrix\n",
    "import seaborn as sns\n",
    "import matplotlib.pyplot as plt\n",
    "\n",
    "plt.figure(figsize=(10, 8))\n",
    "\n",
    "sns.heatmap(correlations, annot=True, cmap='coolwarm')\n",
    "plt.show()"
   ]
  },
  {
   "cell_type": "markdown",
   "id": "ee72cb97-ce7e-45bd-bdae-db0dd5089123",
   "metadata": {},
   "source": [
    "#### Advanced Visualizations"
   ]
  },
  {
   "cell_type": "code",
   "execution_count": null,
   "id": "95c54bcb-b5d3-4103-836c-2f3fe7f2ca5b",
   "metadata": {},
   "outputs": [],
   "source": [
    "# Creating joint plots for Energy Consumption vs. HVAC Usage\n",
    "sns.jointplot(x='Energy_Consumption_kWh', y='HVAC_Usage_kWh', data=df, kind='scatter')\n",
    "plt.show()\n",
    "\n",
    "# Energy Consumption vs. Temperature\n",
    "sns.jointplot(x='Energy_Consumption_kWh', y='Temperature_C', data=df, kind='scatter')\n",
    "plt.show()\n",
    "\n",
    "# Energy Consumption vs. Energy per Occupant\n",
    "sns.jointplot(x='Energy_Consumption_kWh', y='Energy per Occupant', data=df, kind='scatter')\n",
    "plt.show()"
   ]
  },
  {
   "cell_type": "code",
   "execution_count": null,
   "id": "4e53920b-901a-4f71-b486-e440203c0448",
   "metadata": {},
   "outputs": [],
   "source": [
    "#selecting numerical and categorical columns for univariate analysis\n",
    "numeric_columns=df.select_dtypes(include=['int64','float64']).columns.tolist()\n"
   ]
  },
  {
   "cell_type": "code",
   "execution_count": null,
   "id": "17b4537e-c172-4f27-9c95-b55f0cde5f5a",
   "metadata": {},
   "outputs": [],
   "source": [
    "# Create pairwise joint plots for numeric variables with histogram on the diagonal\n",
    "sns.pairplot(df[numeric_columns], diag_kind='kde', markers='o')\n",
    "plt.suptitle('Pairwise Joint Plots for Numeric Variables', y=1.02, fontsize=15)\n",
    "plt.show()"
   ]
  },
  {
   "cell_type": "code",
   "execution_count": null,
   "id": "c6787c5d-b2a3-405b-9437-2dabe6922a25",
   "metadata": {},
   "outputs": [],
   "source": [
    "plt.figure(figsize=(15, 10))\n",
    "\n",
    "# Set the number of columns for the grid layout\n",
    "num_cols = 3  \n",
    "num_vars = len(numeric_columns)  # Number of numeric columns\n",
    "num_rows = (num_vars + num_cols - 1) // num_cols  # Calculate required rows\n",
    "\n",
    "# Loop through the numeric columns and create violin plots\n",
    "for i, column in enumerate(numeric_columns):\n",
    "    plt.subplot(num_rows, num_cols, i + 1)  # Arrange plots in a flexible grid\n",
    "    sns.violinplot(y=df[column], x=df['Season'], palette=\"muted\")\n",
    "    plt.title(f'Violin Plot of {column} by Season', fontsize=12)\n",
    "    plt.xlabel('Season', fontsize=10)\n",
    "    plt.ylabel(column, fontsize=10)\n",
    "\n",
    "plt.tight_layout()\n",
    "plt.show()"
   ]
  },
  {
   "cell_type": "markdown",
   "id": "7b374dd5-4c16-4c54-92dc-601b4f5892ac",
   "metadata": {},
   "source": [
    "#### Interactive Plot"
   ]
  },
  {
   "cell_type": "code",
   "execution_count": null,
   "id": "cd9ac869-a924-4b1e-8f28-28812752bd41",
   "metadata": {},
   "outputs": [],
   "source": [
    "import plotly.express as px\n",
    "for column in numeric_columns:\n",
    "    if column != 'Energy_Consumption_kWh':\n",
    "        fig = px.scatter(df, \n",
    "                         x='Energy_Consumption_kWh', \n",
    "                         y=column,\n",
    "                         hover_data=df.columns,  # Show all columns on hover\n",
    "                         title=f'Interactive Scatter Plot of Energy Consumption vs {column}',\n",
    "                         labels={'Energy_Consumption_kWh': 'Energy Consumption (kWh)', column: column})\n",
    "        fig.show()"
   ]
  },
  {
   "cell_type": "code",
   "execution_count": null,
   "id": "27a44e03-6380-44fa-9559-13f2bdc0bac3",
   "metadata": {},
   "outputs": [],
   "source": [
    "# Create interactive violin plots for energy consumption by season\n",
    "fig = px.violin(df, \n",
    "                 y='Energy_Consumption_kWh', \n",
    "                 x='Season',\n",
    "                 box=True, \n",
    "                 points='all',\n",
    "                 title='Interactive Violin Plot of Energy Consumption by Season',\n",
    "                 labels={'Season': 'Season', 'Energy_Consumption_kWh': 'Energy Consumption (kWh)'})\n",
    "fig.show()\n",
    "\n"
   ]
  },
  {
   "cell_type": "code",
   "execution_count": null,
   "id": "0e6da7fd-1532-4802-9db8-ffb1aa66610e",
   "metadata": {},
   "outputs": [],
   "source": [
    "# Optionally, you can create violin plots for other numeric variables by season\n",
    "for column in numeric_columns:\n",
    "    if column != 'Energy_Consumption_kWh':\n",
    "        fig = px.violin(df, \n",
    "                         y=column, \n",
    "                         x='Season',\n",
    "                         box=True, \n",
    "                         points='all',\n",
    "                         title=f'Interactive Violin Plot of {column} by Season',\n",
    "                         labels={'Season': 'Season', column: column})\n",
    "        fig.show()"
   ]
  },
  {
   "cell_type": "markdown",
   "id": "80595f21-b5ba-44a5-a0ae-b7cba47313b4",
   "metadata": {},
   "source": [
    "## Task 4: Data Split"
   ]
  },
  {
   "cell_type": "code",
   "execution_count": null,
   "id": "41c4ad41-9d8a-4bab-8f5c-2b4d39bccffe",
   "metadata": {},
   "outputs": [],
   "source": [
    "\n",
    "# First, sort the DataFrame by the date index if it's not already sorted\n",
    "df = df.sort_index()  # Ensure the data is sorted by date\n",
    "\n",
    "# Calculate the split index\n",
    "split_index = int(len(df) * 0.8)\n",
    "\n",
    "# Create training and testing datasets\n",
    "train_df = df.iloc[:split_index]  # First 80% for training\n",
    "test_df = df.iloc[split_index:]    # Remaining 20% for testing\n",
    "\n",
    "# Display the sizes of the datasets\n",
    "print(f'Training set size: {train_df.shape[0]}')\n",
    "print(f'Testing set size: {test_df.shape[0]}')\n"
   ]
  },
  {
   "cell_type": "code",
   "execution_count": null,
   "id": "42fa483c-8e5a-48c9-956d-81d1a3995821",
   "metadata": {},
   "outputs": [],
   "source": [
    "train_df.head()"
   ]
  },
  {
   "cell_type": "code",
   "execution_count": null,
   "id": "cd3d3b34-1038-41b4-9b79-633d4877e83e",
   "metadata": {},
   "outputs": [],
   "source": [
    "test_df.head()"
   ]
  },
  {
   "cell_type": "markdown",
   "id": "96742757-d4f5-4d26-aa04-7372d2635127",
   "metadata": {},
   "source": [
    "#### Task 2- Model Selection and Training"
   ]
  },
  {
   "cell_type": "code",
   "execution_count": null,
   "id": "bb090134-dd6d-484b-b760-cce42f575958",
   "metadata": {},
   "outputs": [],
   "source": [
    "from sklearn.linear_model import LinearRegression\n",
    "from sklearn.metrics import mean_absolute_error, mean_squared_error, r2_score\n",
    "# Ensure the DataFrame is sorted by date\n",
    "df = df.sort_index()  \n",
    "\n",
    "# Identify categorical columns\n",
    "categorical_cols = df.select_dtypes(include=['object']).columns.tolist()\n",
    "\n",
    "# Convert categorical columns to numeric using one-hot encoding\n",
    "df_encoded = pd.get_dummies(df, columns=categorical_cols, drop_first=True)\n",
    "\n",
    "# Define features (X) and target variable (y)\n",
    "X = df_encoded.drop(columns=['Energy_Consumption_kWh'])  # Update the target variable as needed\n",
    "y = df_encoded['Energy_Consumption_kWh']  # Update the target variable as needed\n",
    "\n",
    "# Split the data into training and testing sets while maintaining time series\n",
    "split_index = int(len(df_encoded) * 0.8)\n",
    "X_train = X.iloc[:split_index]\n",
    "y_train = y.iloc[:split_index]\n",
    "X_test = X.iloc[split_index:]\n",
    "y_test = y.iloc[split_index:]\n",
    "\n",
    "# Initialize and train the Linear Regression model\n",
    "model = LinearRegression()\n",
    "model.fit(X_train, y_train)\n",
    "\n",
    "# Make predictions on the testing set\n",
    "y_pred = model.predict(X_test)\n",
    "\n",
    "# Evaluate the model performance\n",
    "mae = mean_absolute_error(y_test, y_pred)\n",
    "mse = mean_squared_error(y_test, y_pred)\n",
    "r2 = r2_score(y_test, y_pred)\n",
    "\n",
    "print(f'Mean Absolute Error: {mae}')\n",
    "print(f'Mean Squared Error: {mse}')\n",
    "print(f'R-squared: {r2}')"
   ]
  },
  {
   "cell_type": "code",
   "execution_count": null,
   "id": "bc4b92f4-634f-42a9-9d82-5c0b327dc0b1",
   "metadata": {},
   "outputs": [],
   "source": [
    "# Residual Analysis\n",
    "residuals = y_test - y_pred\n",
    "\n",
    "# Plotting Residuals\n",
    "plt.figure(figsize=(14, 6))\n",
    "\n",
    "# Histogram of Residuals\n",
    "plt.subplot(1, 2, 1)\n",
    "sns.histplot(residuals, bins=30, kde=True)\n",
    "plt.title('Distribution of Residuals')\n",
    "plt.xlabel('Residuals')\n",
    "plt.ylabel('Frequency')\n",
    "\n",
    "# Residuals vs. Predicted Values\n",
    "plt.subplot(1, 2, 2)\n",
    "plt.scatter(y_pred, residuals)\n",
    "plt.axhline(0, color='red', linestyle='--')\n",
    "plt.title('Residuals vs. Predicted Values')\n",
    "plt.xlabel('Predicted Values')\n",
    "plt.ylabel('Residuals')\n",
    "\n",
    "plt.tight_layout()\n",
    "plt.show()"
   ]
  },
  {
   "cell_type": "markdown",
   "id": "130f9fb1-461d-4fa4-a9a9-828be3500f20",
   "metadata": {},
   "source": [
    "#### Task 4 Coefficient Extraction"
   ]
  },
  {
   "cell_type": "code",
   "execution_count": null,
   "id": "48cf6f30-db7c-4c45-8bae-58d97a12eb1d",
   "metadata": {},
   "outputs": [],
   "source": [
    "# Get feature names\n",
    "feature_names = X_train.columns\n",
    "\n",
    "# Extract coefficients\n",
    "coefficients = model.coef_\n",
    "\n",
    "# Create a DataFrame for better visualization\n",
    "coefficients_df = pd.DataFrame({'Feature': feature_names, 'Coefficient': coefficients})\n",
    "\n",
    "# Sort coefficients by absolute value to identify the most impactful features\n",
    "coefficients_df['Absolute Coefficient'] = coefficients_df['Coefficient'].abs()\n",
    "coefficients_df = coefficients_df.sort_values(by='Absolute Coefficient', ascending=False)\n",
    "\n",
    "print(coefficients_df[['Feature', 'Coefficient']])"
   ]
  },
  {
   "cell_type": "markdown",
   "id": "9f5c68c9-07a7-4371-89f5-ddbd48ed9955",
   "metadata": {},
   "source": [
    "#### Feature Importance Plot\n",
    "\n"
   ]
  },
  {
   "cell_type": "code",
   "execution_count": null,
   "id": "cb2b3394-46c0-478e-92dc-983a38126f81",
   "metadata": {},
   "outputs": [],
   "source": [
    "# Add Absolute Coefficient for better visibility\n",
    "coefficients_df['Absolute Coefficient'] = coefficients_df['Coefficient'].abs()\n",
    "\n",
    "# Sort the DataFrame by absolute coefficient values\n",
    "coefficients_df = coefficients_df.sort_values(by='Absolute Coefficient', ascending=False)\n",
    "\n",
    "# Limit to top N features for clarity, if needed\n",
    "top_n = 10  # You can change this to show more or fewer features\n",
    "top_features = coefficients_df.head(top_n)\n",
    "\n",
    "# Plotting the coefficients\n",
    "plt.figure(figsize=(12, 6))\n",
    "sns.barplot(data=top_features, x='Absolute Coefficient', y='Feature', palette='viridis')\n",
    "plt.title('Top Features by Absolute Coefficient Value')\n",
    "plt.xlabel('Absolute Coefficient Value')\n",
    "plt.ylabel('Feature')\n",
    "plt.axvline(0, color='red', linestyle='--')  # Add a vertical line at zero\n",
    "plt.xscale('log')  # Use a logarithmic scale for better visibility of small coefficients\n",
    "plt.show()"
   ]
  },
  {
   "cell_type": "markdown",
   "id": "a77eb6b1-8256-4d20-ae87-bd247ed37137",
   "metadata": {},
   "source": [
    "#### Task 5: Predictive System and Testing"
   ]
  },
  {
   "cell_type": "code",
   "execution_count": null,
   "id": "ec7f7f13-64be-4164-afcb-2827862c6c1d",
   "metadata": {},
   "outputs": [],
   "source": [
    "# Assuming 'model' is the trained Linear Regression model\n",
    "# and 'X_test' is the test set of features\n",
    "\n",
    "# Make predictions on the test set\n",
    "predictions = model.predict(X_test)"
   ]
  },
  {
   "cell_type": "code",
   "execution_count": null,
   "id": "4b0ff1d1-86a4-4985-a223-f618fc418395",
   "metadata": {},
   "outputs": [],
   "source": [
    "# Comparing Predictions with Actual Values\n",
    "# Create a DataFrame for actual and predicted values\n",
    "results_df = pd.DataFrame({\n",
    "    'Actual Values': y_test,\n",
    "    'Predicted Values': predictions,\n",
    "    'Residuals': y_test - predictions\n",
    "})\n",
    "\n",
    "# Display the first few rows of the results\n",
    "results_df.head()"
   ]
  },
  {
   "cell_type": "code",
   "execution_count": null,
   "id": "841c1282-4c15-4022-9bc7-ff7c4d7405fb",
   "metadata": {},
   "outputs": [],
   "source": [
    "plt.figure(figsize=(12, 6))\n",
    "\n",
    "# Scatter plot of actual vs predicted values\n",
    "plt.subplot(1, 2, 1)\n",
    "plt.scatter(y_test, predictions, alpha=0.6)\n",
    "plt.plot([y_test.min(), y_test.max()], [y_test.min(), y_test.max()], color='red', linestyle='--')  # Line for perfect predictions\n",
    "plt.title('Actual vs. Predicted Values')\n",
    "plt.xlabel('Actual Values')\n",
    "plt.ylabel('Predicted Values')\n",
    "\n",
    "# Residuals plot\n",
    "plt.subplot(1, 2, 2)\n",
    "plt.scatter(predictions, results_df['Residuals'], alpha=0.6)\n",
    "plt.axhline(0, color='red', linestyle='--')  # Line at zero residual\n",
    "plt.title('Residuals vs. Predicted Values')\n",
    "plt.xlabel('Predicted Values')\n",
    "plt.ylabel('Residuals')\n",
    "\n",
    "plt.tight_layout()\n",
    "plt.show()"
   ]
  },
  {
   "cell_type": "code",
   "execution_count": null,
   "id": "eaf4b3e9-56fc-4577-8d15-cebb65e97e9b",
   "metadata": {},
   "outputs": [],
   "source": []
  }
 ],
 "metadata": {
  "kernelspec": {
   "display_name": "Python 3 (ipykernel)",
   "language": "python",
   "name": "python3"
  },
  "language_info": {
   "codemirror_mode": {
    "name": "ipython",
    "version": 3
   },
   "file_extension": ".py",
   "mimetype": "text/x-python",
   "name": "python",
   "nbconvert_exporter": "python",
   "pygments_lexer": "ipython3",
   "version": "3.11.5"
  }
 },
 "nbformat": 4,
 "nbformat_minor": 5
}
